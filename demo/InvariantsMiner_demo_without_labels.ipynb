{
 "cells": [
  {
   "cell_type": "code",
   "execution_count": 1,
   "id": "polyphonic-spank",
   "metadata": {},
   "outputs": [],
   "source": [
    "#!/usr/bin/env python\n",
    "# -*- coding: utf-8 -*-\n",
    "''' This is a demo file for the Invariants Mining model.\n",
    "    API usage:\n",
    "        dataloader.load_HDFS(): load HDFS dataset\n",
    "        feature_extractor.fit_transform(): fit and transform features\n",
    "        feature_extractor.transform(): feature transform after fitting\n",
    "        model.fit(): fit the model\n",
    "        model.predict(): predict anomalies on given data\n",
    "        model.evaluate(): evaluate model accuracy with labeled data\n",
    "'''\n",
    "\n",
    "import sys\n",
    "sys.path.append('../')\n",
    "from loglizer.models import InvariantsMiner\n",
    "from loglizer import dataloader, preprocessing"
   ]
  },
  {
   "cell_type": "code",
   "execution_count": 2,
   "id": "compatible-overhead",
   "metadata": {},
   "outputs": [],
   "source": [
    "# Declare variables\n",
    "struct_log = '../data/HDFS/HDFS_100k.log_structured.csv' # The structured log file\n",
    "label_file = '../data/HDFS/anomaly_label.csv' # The anomaly label file\n",
    "epsilon = 0.5 # threshold for estimating invariant space"
   ]
  },
  {
   "cell_type": "code",
   "execution_count": 3,
   "id": "nonprofit-party",
   "metadata": {},
   "outputs": [
    {
     "name": "stdout",
     "output_type": "stream",
     "text": [
      "====== Input data summary ======\n",
      "Loading ../data/HDFS/HDFS_100k.log_structured.csv\n",
      "Total: 7940 instances, train: 6352 instances, test: 1588 instances\n"
     ]
    }
   ],
   "source": [
    "# Load structured log without label info\n",
    "train_test_tuple = dataloader.load_HDFS(struct_log,\n",
    "                                                 window='session', \n",
    "                                                 train_ratio=0.8,\n",
    "                                                 split_type='sequential')\n",
    "(x_train, _), (x_test, _) = train_test_tuple[0], train_test_tuple[1]"
   ]
  },
  {
   "cell_type": "code",
   "execution_count": 4,
   "id": "pediatric-calcium",
   "metadata": {},
   "outputs": [
    {
     "name": "stdout",
     "output_type": "stream",
     "text": [
      "====== Transformed train data summary ======\n",
      "Train data shape: 6352-by-16\n",
      "\n"
     ]
    }
   ],
   "source": [
    "# Feature extraction\n",
    "feature_extractor = preprocessing.FeatureExtractor()\n",
    "x_train = feature_extractor.fit_transform(x_train)"
   ]
  },
  {
   "cell_type": "code",
   "execution_count": 5,
   "id": "lyric-dragon",
   "metadata": {},
   "outputs": [
    {
     "name": "stdout",
     "output_type": "stream",
     "text": [
      "====== Model summary ======\n",
      "Invariant space dimension: 13\n",
      "Mined 11 invariants: {(0, 1): [-3, 1], (0, 2): [-3, 1], (0, 3): [-3, 1], (0, 4): [-3, 1], (6, 14): [1, -24], (6, 15): [1, -24], (8, 9): [1, -1], (8, 10): [-2, 1], (8, 11): [1, -1], (8, 12): [1, -2], (8, 13): [-101, 1]}\n",
      "\n"
     ]
    }
   ],
   "source": [
    "# Model initialization and training\n",
    "model = InvariantsMiner(epsilon=epsilon)\n",
    "model.fit(x_train)"
   ]
  },
  {
   "cell_type": "code",
   "execution_count": 6,
   "id": "oriental-antenna",
   "metadata": {},
   "outputs": [],
   "source": [
    "# Predict anomalies on the training set offline, and manually check for correctness\n",
    "y_train = model.predict(x_train)"
   ]
  },
  {
   "cell_type": "code",
   "execution_count": 7,
   "id": "instrumental-entertainment",
   "metadata": {},
   "outputs": [
    {
     "name": "stdout",
     "output_type": "stream",
     "text": [
      "====== Transformed test data summary ======\n",
      "Test data shape: 1588-by-16\n",
      "\n"
     ]
    }
   ],
   "source": [
    "# Predict anomalies on the test set to simulate the online mode\n",
    "# x_test may be loaded from another log file\n",
    "x_test = feature_extractor.transform(x_test)\n",
    "y_test = model.predict(x_test)"
   ]
  },
  {
   "cell_type": "code",
   "execution_count": 8,
   "id": "amateur-settle",
   "metadata": {},
   "outputs": [
    {
     "name": "stdout",
     "output_type": "stream",
     "text": [
      "====== Input data summary ======\n",
      "Loading ../data/HDFS/HDFS_100k.log_structured.csv\n",
      "222 91\n",
      "Total: 7940 instances, 313 anomaly, 7627 normal\n",
      "Train: 6352 instances, 222 anomaly, 6130 normal\n",
      "Test: 1588 instances, 91 anomaly, 1497 normal\n",
      "\n",
      "====== Transformed test data summary ======\n",
      "Test data shape: 1588-by-16\n",
      "\n",
      "====== Evaluation summary ======\n",
      "Precision: 0.980, recall: 0.538, F1-measure: 0.695\n",
      "\n"
     ]
    }
   ],
   "source": [
    "# If you have labeled data, you can evaluate the accuracy of the model as well.\n",
    "# Load structured log with label info\n",
    "train_test_tuple = dataloader.load_HDFS(struct_log,\n",
    "                                                           label_file=label_file,\n",
    "                                                           window='session', \n",
    "                                                           train_ratio=0.8,\n",
    "                                                           split_type='sequential')   \n",
    "(x_train, y_train), (x_test, y_test) = train_test_tuple[0], train_test_tuple[1]\n",
    "x_test = feature_extractor.transform(x_test)\n",
    "precision, recall, f1 = model.evaluate(x_test, y_test)"
   ]
  },
  {
   "cell_type": "code",
   "execution_count": null,
   "id": "defined-veteran",
   "metadata": {},
   "outputs": [],
   "source": []
  }
 ],
 "metadata": {
  "kernelspec": {
   "display_name": "Python 3",
   "language": "python",
   "name": "python3"
  },
  "language_info": {
   "codemirror_mode": {
    "name": "ipython",
    "version": 3
   },
   "file_extension": ".py",
   "mimetype": "text/x-python",
   "name": "python",
   "nbconvert_exporter": "python",
   "pygments_lexer": "ipython3",
   "version": "3.8.6"
  }
 },
 "nbformat": 4,
 "nbformat_minor": 5
}
